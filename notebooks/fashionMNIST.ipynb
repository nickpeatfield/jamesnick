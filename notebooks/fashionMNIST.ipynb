{
 "cells": [
  {
   "cell_type": "code",
   "execution_count": 68,
   "metadata": {
    "collapsed": true
   },
   "outputs": [],
   "source": [
    "import torch\n",
    "from torch import nn\n",
    "from torch.utils.data import DataLoader\n",
    "from torchvision import datasets\n",
    "from torchvision.transforms import ToTensor, Lambda, Compose\n",
    "import matplotlib.pyplot as plt\n",
    "from torch import nn, optim"
   ]
  },
  {
   "cell_type": "code",
   "execution_count": 69,
   "outputs": [],
   "source": [
    "# Download training data from open datasets.\n",
    "training_data = datasets.FashionMNIST(\n",
    "    root=\"data\",\n",
    "    train=True,\n",
    "    download=True,\n",
    "    transform=ToTensor(),\n",
    ")\n",
    "\n",
    "# Download test data from open datasets.\n",
    "test_data = datasets.FashionMNIST(\n",
    "    root=\"data\",\n",
    "    train=False,\n",
    "    download=True,\n",
    "    transform=ToTensor(),\n",
    ")"
   ],
   "metadata": {
    "collapsed": false,
    "pycharm": {
     "name": "#%%\n"
    }
   }
  },
  {
   "cell_type": "code",
   "execution_count": 70,
   "outputs": [],
   "source": [
    "batch_size = 64\n",
    "\n",
    "# Create data loaders.\n",
    "train_dataloader = DataLoader(training_data, batch_size=batch_size)\n",
    "test_dataloader = DataLoader(test_data, batch_size=batch_size)\n",
    "\n",
    "def make_acc_dataset(model, dataset):\n",
    "  n = len(dataset)\n",
    "  for i in range(n):\n",
    "      x, y = dataset[i][0], dataset[i][1]\n",
    "      with torch.no_grad():\n",
    "          pred = model(x)\n",
    "      if (not(pred[0].argmax(0) - y)):\n",
    "          dataset.targets[i] = 1\n",
    "      else:\n",
    "          dataset.targets[i] = 0\n",
    "  return dataset"
   ],
   "metadata": {
    "collapsed": false,
    "pycharm": {
     "name": "#%%\n"
    }
   }
  },
  {
   "cell_type": "code",
   "execution_count": 71,
   "outputs": [
    {
     "name": "stdout",
     "output_type": "stream",
     "text": [
      "Using cpu device\n",
      "NeuralNetworkClass(\n",
      "  (flatten): Flatten()\n",
      "  (linear_relu_stack): Sequential(\n",
      "    (0): Linear(in_features=784, out_features=512, bias=True)\n",
      "    (1): ReLU()\n",
      "    (2): Linear(in_features=512, out_features=512, bias=True)\n",
      "    (3): ReLU()\n",
      "    (4): Linear(in_features=512, out_features=10, bias=True)\n",
      "    (5): ReLU()\n",
      "  )\n",
      ")\n",
      "NeuralNetworkPred(\n",
      "  (flatten): Flatten()\n",
      "  (linear_relu_stack): Sequential(\n",
      "    (0): Linear(in_features=784, out_features=512, bias=True)\n",
      "    (1): ReLU()\n",
      "    (2): Linear(in_features=512, out_features=512, bias=True)\n",
      "    (3): ReLU()\n",
      "    (4): Linear(in_features=512, out_features=2, bias=True)\n",
      "    (5): ReLU()\n",
      "  )\n",
      ")\n"
     ]
    }
   ],
   "source": [
    "# Get cpu or gpu device for training.\n",
    "device = \"cpu\"\n",
    "print(\"Using {} device\".format(device))\n",
    "# Define model\n",
    "class NeuralNetworkClass(nn.Module):\n",
    "    def __init__(self):\n",
    "        super(NeuralNetworkClass, self).__init__()\n",
    "        self.flatten = nn.Flatten()\n",
    "        self.linear_relu_stack = nn.Sequential(\n",
    "            nn.Linear(28*28, 512),\n",
    "            nn.ReLU(),\n",
    "            nn.Linear(512, 512),\n",
    "            nn.ReLU(),\n",
    "            nn.Linear(512, 10),\n",
    "            nn.ReLU()\n",
    "        )\n",
    "\n",
    "    def forward(self, x):\n",
    "        x = self.flatten(x)\n",
    "        logits = self.linear_relu_stack(x).to(device)\n",
    "        return logits\n",
    "\n",
    "class_model = NeuralNetworkClass().to(device)\n",
    "print(class_model)\n",
    "\n",
    "class NeuralNetworkPred(nn.Module):\n",
    "    def __init__(self):\n",
    "        super(NeuralNetworkPred, self).__init__()\n",
    "        self.flatten = nn.Flatten()\n",
    "        self.linear_relu_stack = nn.Sequential(\n",
    "            nn.Linear(28*28, 512),\n",
    "            nn.ReLU(),\n",
    "            nn.Linear(512, 512),\n",
    "            nn.ReLU(),\n",
    "            nn.Linear(512, 2),\n",
    "            nn.ReLU()\n",
    "        )\n",
    "\n",
    "    def forward(self, x):\n",
    "        x = self.flatten(x)\n",
    "        logits = self.linear_relu_stack(x).to(device)\n",
    "        return logits\n",
    "\n",
    "pred_model = NeuralNetworkPred().to(device)\n",
    "print(pred_model)"
   ],
   "metadata": {
    "collapsed": false,
    "pycharm": {
     "name": "#%%\n"
    }
   }
  },
  {
   "cell_type": "code",
   "execution_count": 72,
   "outputs": [],
   "source": [
    "loss_fn_class = nn.CrossEntropyLoss()\n",
    "optimizer_class = torch.optim.SGD(class_model.parameters(), lr=1e-3)\n",
    "loss_fn_pred = nn.CrossEntropyLoss()\n",
    "optimizer_pred = torch.optim.SGD(pred_model.parameters(), lr=1e-3)\n",
    "\n",
    "def train(dataloader, model, loss_fn, optimizer):\n",
    "    size = len(dataloader.dataset)\n",
    "    for batch, (X, y) in enumerate(dataloader):\n",
    "        X, y = X.to(device), y.to(device)\n",
    "\n",
    "        # Compute prediction error\n",
    "        pred = model(X)\n",
    "        loss = loss_fn(pred, y)\n",
    "\n",
    "        # Backpropagation\n",
    "        optimizer.zero_grad()\n",
    "        loss.backward()\n",
    "        optimizer.step()"
   ],
   "metadata": {
    "collapsed": false,
    "pycharm": {
     "name": "#%%\n"
    }
   }
  },
  {
   "cell_type": "code",
   "execution_count": 73,
   "outputs": [],
   "source": [
    "def test(dataloader, model, loss_fn, min_loss):\n",
    "    size = len(dataloader.dataset)\n",
    "    num_batches = len(dataloader)\n",
    "    model.eval()\n",
    "    test_loss, correct = 0, 0\n",
    "    with torch.no_grad():\n",
    "        for X, y in dataloader:\n",
    "            X, y = X.to(device), y.to(device)\n",
    "            pred = model(X)\n",
    "            test_loss += loss_fn(pred, y).item()\n",
    "            correct += (pred.argmax(1) == y).type(torch.float).sum().item()\n",
    "    test_loss /= num_batches\n",
    "    correct /= size\n",
    "    if test_loss < min_loss:\n",
    "        print(f\"Early Stopping: \\n Accuracy: {(100*correct):>0.1f}%, Avg loss: {test_loss:>8f} \\n\")\n",
    "        return 1\n",
    "    print(f\"Test Error: \\n Accuracy: {(100*correct):>0.1f}%, Avg loss: {test_loss:>8f} \\n\")\n",
    "    return 0\n",
    "\n",
    "def weight_reset(m):\n",
    "    reset_parameters = getattr(m, \"reset_parameters\", None)\n",
    "    if callable(reset_parameters):\n",
    "        m.reset_parameters()\n",
    "\n",
    "\n"
   ],
   "metadata": {
    "collapsed": false,
    "pycharm": {
     "name": "#%%\n"
    }
   }
  },
  {
   "cell_type": "code",
   "execution_count": null,
   "outputs": [
    {
     "name": "stdout",
     "output_type": "stream",
     "text": [
      "Epoch 1 of gen 1\n",
      "-------------------------------\n",
      "Test Error: \n",
      " Accuracy: 41.0%, Avg loss: 2.225006 \n",
      "\n",
      "Epoch 2 of gen 1\n",
      "-------------------------------\n",
      "Test Error: \n",
      " Accuracy: 43.0%, Avg loss: 2.122610 \n",
      "\n",
      "Epoch 3 of gen 1\n",
      "-------------------------------\n",
      "Test Error: \n",
      " Accuracy: 43.5%, Avg loss: 1.958324 \n",
      "\n",
      "Epoch 4 of gen 1\n",
      "-------------------------------\n",
      "Early Stopping: \n",
      " Accuracy: 50.7%, Avg loss: 1.785498 \n",
      "\n",
      "Saved PyTorch Model State to 1_allclass_model.pth\n",
      "Predicting 1\n",
      "-------------------------------\n",
      "Epoch 1 of gen 1 pred class \n",
      "-------------------------------\n",
      "Test Error: \n",
      " Accuracy: 65.6%, Avg loss: 0.680425 \n",
      "\n",
      "Epoch 2 of gen 1 pred class \n",
      "-------------------------------\n",
      "Test Error: \n",
      " Accuracy: 66.2%, Avg loss: 0.664055 \n",
      "\n",
      "Epoch 3 of gen 1 pred class \n",
      "-------------------------------\n",
      "Test Error: \n",
      " Accuracy: 68.4%, Avg loss: 0.643066 \n",
      "\n",
      "Epoch 4 of gen 1 pred class \n",
      "-------------------------------\n",
      "Test Error: \n",
      " Accuracy: 71.2%, Avg loss: 0.615653 \n",
      "\n",
      "Epoch 5 of gen 1 pred class \n",
      "-------------------------------\n",
      "Test Error: \n",
      " Accuracy: 73.0%, Avg loss: 0.583077 \n",
      "\n",
      "Epoch 6 of gen 1 pred class \n",
      "-------------------------------\n"
     ]
    }
   ],
   "source": [
    "epochs = 10\n",
    "model_gens = 10\n",
    "for g in range(model_gens):\n",
    "    # Reset all the models\n",
    "    # Full 10 class\n",
    "    class_model.apply(weight_reset)\n",
    "    loss_fn_class = nn.CrossEntropyLoss()\n",
    "    optimizer_class = torch.optim.SGD(class_model.parameters(), lr=1e-3)\n",
    "    # Just predict\n",
    "    pred_model.apply(weight_reset)\n",
    "    loss_fn_pred = nn.CrossEntropyLoss()\n",
    "    optimizer_pred = torch.optim.SGD(pred_model.parameters(), lr=1e-3)\n",
    "    for t in range(epochs):\n",
    "        print(f\"Epoch {t+1} of gen {g+1}\\n-------------------------------\")\n",
    "        train(train_dataloader, class_model, loss_fn_class, optimizer_class)\n",
    "        early_stopping = test(test_dataloader, class_model, loss_fn_class, 1.8)\n",
    "        if early_stopping == 1 or t == epochs:\n",
    "            torch.save(class_model.state_dict(), f\"{g+1}_allclass_model.pth\")\n",
    "            print(f\"Saved PyTorch Model State to {g+1}_allclass_model.pth\")\n",
    "            print(f\"Predicting {g+1}\\n-------------------------------\")\n",
    "            pred_train_dataset = make_acc_dataset(class_model,training_data)\n",
    "            pred_test_dataset = make_acc_dataset(class_model,test_data)\n",
    "            pred_train_dataloader = DataLoader(pred_train_dataset, batch_size=batch_size)\n",
    "            pred_test_dataloader = DataLoader(pred_test_dataset, batch_size=batch_size)\n",
    "            for p in range(epochs):\n",
    "                print(f\"Epoch {p+1} of gen {g+1} pred class \\n-------------------------------\")\n",
    "                train(pred_train_dataloader, pred_model, loss_fn_pred, optimizer_pred)\n",
    "                early_stopping = test(pred_test_dataloader, pred_model, loss_fn_pred, 0.5)\n",
    "                if early_stopping == 1 or p == epochs:\n",
    "                    torch.save(pred_model.state_dict(), f\"{g+1}_pred_model.pth\")\n",
    "                    print(f\"Saved PyTorch Model State to {g+1}_pred_model.pth\")\n",
    "                    break\n",
    "            break\n",
    "\n",
    "\n",
    "print(\"Done!\")\n"
   ],
   "metadata": {
    "collapsed": false,
    "pycharm": {
     "name": "#%%\n",
     "is_executing": true
    }
   }
  },
  {
   "cell_type": "code",
   "execution_count": null,
   "outputs": [],
   "source": [
    "\n"
   ],
   "metadata": {
    "collapsed": false,
    "pycharm": {
     "name": "#%%\n",
     "is_executing": true
    }
   }
  }
 ],
 "metadata": {
  "kernelspec": {
   "display_name": "Python 3",
   "language": "python",
   "name": "python3"
  },
  "language_info": {
   "codemirror_mode": {
    "name": "ipython",
    "version": 2
   },
   "file_extension": ".py",
   "mimetype": "text/x-python",
   "name": "python",
   "nbconvert_exporter": "python",
   "pygments_lexer": "ipython2",
   "version": "2.7.6"
  }
 },
 "nbformat": 4,
 "nbformat_minor": 0
}