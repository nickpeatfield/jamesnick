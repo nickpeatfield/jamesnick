{
 "cells": [
  {
   "cell_type": "code",
   "execution_count": 17,
   "metadata": {},
   "outputs": [],
   "source": [
    "# Copyright (C) Nicholas Peatfield, 2021\n",
    "# Sections taken from Pytorch Tutorial\n",
    "\n",
    "import torch\n",
    "from torch.utils.data import DataLoader\n",
    "from torchvision import datasets\n",
    "from torchvision.transforms import ToTensor, Lambda, Compose\n",
    "from torch import nn, optim\n",
    "import matplotlib.pyplot as plt\n",
    "import numpy as np"
   ]
  },
  {
   "cell_type": "code",
   "execution_count": 18,
   "outputs": [],
   "source": [
    "# LETS JUST USE THE PYTORCH TUTORIAL DATASET i.e. FASHIONMNIST\n",
    "training_data = datasets.FashionMNIST(\n",
    "    root=\"data\",\n",
    "    train=True,\n",
    "    download=True,\n",
    "    transform=ToTensor(),\n",
    ")\n",
    "test_data = datasets.FashionMNIST(\n",
    "    root=\"data\",\n",
    "    train=False,\n",
    "    download=True,\n",
    "    transform=ToTensor(),\n",
    ")"
   ],
   "metadata": {
    "collapsed": false,
    "pycharm": {
     "name": "#%%\n"
    }
   }
  },
  {
   "cell_type": "code",
   "execution_count": 19,
   "metadata": {
    "pycharm": {
     "name": "#%%\n"
    }
   },
   "outputs": [],
   "source": [
    "batch_size = 64\n",
    "\n",
    "# Create data loaders.\n",
    "train_dataloader = DataLoader(training_data, batch_size=batch_size)\n",
    "test_dataloader = DataLoader(test_data, batch_size=batch_size)\n",
    "\n",
    "def make_acc_dataset(model, dataset):\n",
    "  n = len(dataset)\n",
    "  for i in range(n):\n",
    "      x, y = dataset[i][0], dataset[i][1]\n",
    "      with torch.no_grad():\n",
    "          pred = model(x)\n",
    "      if (not(pred[0].argmax(0) - y)):\n",
    "          dataset.targets[i] = 1\n",
    "      else:\n",
    "          dataset.targets[i] = 0\n",
    "  return dataset"
   ]
  },
  {
   "cell_type": "code",
   "execution_count": 20,
   "metadata": {
    "pycharm": {
     "name": "#%%\n"
    }
   },
   "outputs": [
    {
     "name": "stdout",
     "output_type": "stream",
     "text": [
      "Using cpu device\n",
      "NeuralNetworkClass(\n",
      "  (flatten): Flatten(start_dim=1, end_dim=-1)\n",
      "  (linear_relu_stack): Sequential(\n",
      "    (0): Linear(in_features=784, out_features=512, bias=True)\n",
      "    (1): ReLU()\n",
      "    (2): Linear(in_features=512, out_features=512, bias=True)\n",
      "    (3): ReLU()\n",
      "    (4): Linear(in_features=512, out_features=10, bias=True)\n",
      "    (5): ReLU()\n",
      "  )\n",
      ")\n",
      "NeuralNetworkClass(\n",
      "  (flatten): Flatten(start_dim=1, end_dim=-1)\n",
      "  (linear_relu_stack): Sequential(\n",
      "    (0): Linear(in_features=784, out_features=512, bias=True)\n",
      "    (1): ReLU()\n",
      "    (2): Linear(in_features=512, out_features=512, bias=True)\n",
      "    (3): ReLU()\n",
      "    (4): Linear(in_features=512, out_features=2, bias=True)\n",
      "    (5): ReLU()\n",
      "  )\n",
      ")\n",
      "NeuralNetworkClass(\n",
      "  (flatten): Flatten(start_dim=1, end_dim=-1)\n",
      "  (linear_relu_stack): Sequential(\n",
      "    (0): Linear(in_features=784, out_features=512, bias=True)\n",
      "    (1): ReLU()\n",
      "    (2): Linear(in_features=512, out_features=512, bias=True)\n",
      "    (3): ReLU()\n",
      "    (4): Linear(in_features=512, out_features=10, bias=True)\n",
      "    (5): ReLU()\n",
      "  )\n",
      ")\n"
     ]
    }
   ],
   "source": [
    "# Get cpu or gpu device for training.\n",
    "device = \"cpu\"\n",
    "print(\"Using {} device\".format(device))\n",
    "# Define model\n",
    "class NeuralNetworkClass(nn.Module):\n",
    "    def __init__(self):\n",
    "        super(NeuralNetworkClass, self).__init__()\n",
    "        self.flatten = nn.Flatten()\n",
    "        self.linear_relu_stack = nn.Sequential(\n",
    "            nn.Linear(28*28, 512),\n",
    "            nn.ReLU(),\n",
    "            nn.Linear(512, 512),\n",
    "            nn.ReLU(),\n",
    "            nn.Linear(512, 10),\n",
    "            nn.ReLU()\n",
    "        )\n",
    "\n",
    "    def forward(self, x):\n",
    "        x = self.flatten(x)\n",
    "        logits = self.linear_relu_stack(x).to(device)\n",
    "        return logits\n",
    "\n",
    "class_model = NeuralNetworkClass().to(device)\n",
    "print(class_model)\n",
    "pred_model = NeuralNetworkClass()\n",
    "pred_model.linear_relu_stack[4] = nn.Linear(512, 2)\n",
    "print(pred_model)\n",
    "print(class_model)"
   ]
  },
  {
   "cell_type": "code",
   "execution_count": 21,
   "metadata": {
    "pycharm": {
     "name": "#%%\n"
    }
   },
   "outputs": [],
   "source": [
    "\n",
    "def train(dataloader, model, loss_fn, optimizer):\n",
    "    size = len(dataloader.dataset)\n",
    "    for batch, (X, y) in enumerate(dataloader):\n",
    "        X, y = X.to(device), y.to(device)\n",
    "\n",
    "        # Compute prediction error\n",
    "        pred = model(X)\n",
    "        loss = loss_fn(pred, y)\n",
    "\n",
    "        # Backpropagation\n",
    "        optimizer.zero_grad()\n",
    "        loss.backward()\n",
    "        optimizer.step()"
   ]
  },
  {
   "cell_type": "code",
   "execution_count": 22,
   "metadata": {
    "pycharm": {
     "name": "#%%\n"
    }
   },
   "outputs": [],
   "source": [
    "def test(dataloader, model, loss_fn):\n",
    "    size = len(dataloader.dataset)\n",
    "    num_batches = len(dataloader)\n",
    "    model.eval()\n",
    "    test_loss, correct = 0, 0\n",
    "    with torch.no_grad():\n",
    "        for X, y in dataloader:\n",
    "            X, y = X.to(device), y.to(device)\n",
    "            pred = model(X)\n",
    "            test_loss += loss_fn(pred, y).item()\n",
    "            correct += (pred.argmax(1) == y).type(torch.float).sum().item()\n",
    "    test_loss /= num_batches\n",
    "    correct /= size\n",
    "    print(f\"Test Error: \\n Accuracy: {(100*correct):>0.1f}%, Avg loss: {test_loss:>8f} \\n\")\n",
    "    return test_loss, correct\n",
    "\n",
    "def weight_init(m):\n",
    "    if isinstance(m, nn.Conv2d) or isinstance(m, nn.ConvTranspose2d):\n",
    "        nn.init.xavier_uniform_(m.weight, gain=nn.init.calculate_gain('relu'))\n",
    "        nn.init.zeros_(m.bias)\n",
    "\n",
    "\n"
   ]
  },
  {
   "cell_type": "code",
   "execution_count": 23,
   "metadata": {
    "pycharm": {
     "name": "#%%\n"
    }
   },
   "outputs": [],
   "source": [
    "class EarlyStopping:\n",
    "    \"\"\"\n",
    "    Early stopping to stop the training when the loss does not improve after\n",
    "    certain epochs.\n",
    "    \"\"\"\n",
    "    def __init__(self, patience=5, min_delta=0):\n",
    "        \"\"\"\n",
    "        :param patience: how many epochs to wait before stopping when loss is\n",
    "               not improving\n",
    "        :param min_delta: minimum difference between new loss and old loss for\n",
    "               new loss to be considered as an improvement\n",
    "        \"\"\"\n",
    "        self.patience = patience\n",
    "        self.min_delta = min_delta\n",
    "        self.counter = 0\n",
    "        self.best_loss = None\n",
    "        self.early_stop = False\n",
    "\n",
    "    def __call__(self, val_loss):\n",
    "        if self.best_loss == None:\n",
    "            self.best_loss = val_loss\n",
    "        elif self.best_loss - val_loss > self.min_delta:\n",
    "            self.best_loss = val_loss\n",
    "        elif self.best_loss - val_loss < self.min_delta:\n",
    "            self.counter += 1\n",
    "            print(f\"INFO: Early stopping counter {self.counter} of {self.patience}\")\n",
    "            if self.counter >= self.patience:\n",
    "                print('INFO: Early stopping')\n",
    "                self.early_stop = True"
   ]
  },
  {
   "cell_type": "code",
   "execution_count": 36,
   "outputs": [
    {
     "name": "stdout",
     "output_type": "stream",
     "text": [
      "The index is 0\n",
      "The index is 1\n",
      "The index is 1\n",
      "The index is 3\n"
     ]
    },
    {
     "data": {
      "text/plain": "<Figure size 576x360 with 4 Axes>",
      "image/png": "[encoded data removed]"
     },
     "metadata": {
      "needs_background": "light"
     },
     "output_type": "display_data"
    }
   ],
   "source": [
    "class AccValGraphs:\n",
    "    \"\"\"\n",
    "    Graph class objects to return the m*n\n",
    "    \"\"\"\n",
    "    def __init__(self, model_types=2, model_gen=20, epochs=100):\n",
    "        \"\"\"\n",
    "        :param model_types: how many types of models to plot for e.g. class vs acc\n",
    "        :param model_gen: minimum difference between new loss and old loss for\n",
    "               new loss to be considered as an improvement\n",
    "        \"\"\"\n",
    "        self.model_type = model_types\n",
    "        self.model_gen = model_gen\n",
    "        self.x = np.linspace(1,epochs,epochs)\n",
    "\n",
    "        self.fig, self.axs = plt.subplots(model_types, model_gen, figsize=(8, 5), constrained_layout=True,\n",
    "            sharex=True, sharey=True)\n",
    "\n",
    "\n",
    "    def add_ax(self,type,gen,val_array,acc_array):\n",
    "        self.axs[type-1,gen-1].plot(self.x,val_array, self.x, acc_array)\n",
    "        self.axs[type-1,gen-1].set_title(f'Type {type} of {gen}')\n",
    "        self.axs[type-1,gen-1].set_xlabel('Epochs')\n",
    "        self.axs[type-1,gen-1].set_ylabel('Loss and Acc')\n",
    "\n",
    "\n",
    "graphs = AccValGraphs(model_types=2,model_gen=2,epochs=5)\n",
    "graphs.add_ax(0,0,[1.5,1.4,1.3,1.2,1.1],[56,72,83,85,86])\n",
    "graphs.add_ax(1,2,[1.5,1.4,1.3,1.2,1.1],[56,72,83,85,86])\n",
    "graphs.add_ax(2,1,[1.5,1.4,1.3,1.2,1.1],[56,72,83,85,86])\n",
    "graphs.add_ax(2,2,[1.5,1.4,1.3,1.2,1.1],[56,72,83,85,86])"
   ],
   "metadata": {
    "collapsed": false,
    "pycharm": {
     "name": "#%% Make figures for the validation and accuracy of the models.\n"
    }
   }
  },
  {
   "cell_type": "code",
   "execution_count": 33,
   "outputs": [
    {
     "name": "stdout",
     "output_type": "stream",
     "text": [
      "New Gen Time \n",
      "\n",
      "Epoch 1 of gen 1\n",
      "-------------------------------\n",
      "Test Error: \n",
      " Accuracy: 70.4%, Avg loss: 0.968720 \n",
      "\n",
      "Epoch 2 of gen 1\n",
      "-------------------------------\n",
      "Test Error: \n",
      " Accuracy: 70.5%, Avg loss: 0.963800 \n",
      "\n",
      "Epoch 3 of gen 1\n",
      "-------------------------------\n",
      "Test Error: \n",
      " Accuracy: 70.5%, Avg loss: 0.959202 \n",
      "\n",
      "Epoch 4 of gen 1\n",
      "-------------------------------\n",
      "Test Error: \n",
      " Accuracy: 70.6%, Avg loss: 0.954920 \n",
      "\n",
      "Epoch 5 of gen 1\n",
      "-------------------------------\n",
      "Test Error: \n",
      " Accuracy: 70.7%, Avg loss: 0.950906 \n",
      "\n",
      "Saved PyTorch Model State to 1_allclass_model.pth\n",
      "The index is 0\n"
     ]
    },
    {
     "ename": "AttributeError",
     "evalue": "'numpy.ndarray' object has no attribute 'plot'",
     "output_type": "error",
     "traceback": [
      "\u001B[0;31m---------------------------------------------------------------------------\u001B[0m",
      "\u001B[0;31mAttributeError\u001B[0m                            Traceback (most recent call last)",
      "\u001B[0;32m/var/folders/gg/pzwg2mx55xz88tn1x3z4qgdw0000gn/T/ipykernel_55136/2989471578.py\u001B[0m in \u001B[0;36m<module>\u001B[0;34m\u001B[0m\n\u001B[1;32m     28\u001B[0m             \u001B[0mtorch\u001B[0m\u001B[0;34m.\u001B[0m\u001B[0msave\u001B[0m\u001B[0;34m(\u001B[0m\u001B[0mclass_model\u001B[0m\u001B[0;34m.\u001B[0m\u001B[0mstate_dict\u001B[0m\u001B[0;34m(\u001B[0m\u001B[0;34m)\u001B[0m\u001B[0;34m,\u001B[0m \u001B[0;34mf\"{g+1}_allclass_model.pth\"\u001B[0m\u001B[0;34m)\u001B[0m\u001B[0;34m\u001B[0m\u001B[0;34m\u001B[0m\u001B[0m\n\u001B[1;32m     29\u001B[0m             \u001B[0mprint\u001B[0m\u001B[0;34m(\u001B[0m\u001B[0;34mf\"Saved PyTorch Model State to {g+1}_allclass_model.pth\"\u001B[0m\u001B[0;34m)\u001B[0m\u001B[0;34m\u001B[0m\u001B[0;34m\u001B[0m\u001B[0m\n\u001B[0;32m---> 30\u001B[0;31m             \u001B[0mgraphs_now\u001B[0m\u001B[0;34m.\u001B[0m\u001B[0madd_ax\u001B[0m\u001B[0;34m(\u001B[0m\u001B[0;36m1\u001B[0m\u001B[0;34m,\u001B[0m\u001B[0mg\u001B[0m\u001B[0;34m+\u001B[0m\u001B[0;36m1\u001B[0m\u001B[0;34m,\u001B[0m\u001B[0mclass_loss\u001B[0m\u001B[0;34m,\u001B[0m\u001B[0mclass_acc\u001B[0m\u001B[0;34m)\u001B[0m\u001B[0;34m\u001B[0m\u001B[0;34m\u001B[0m\u001B[0m\n\u001B[0m\u001B[1;32m     31\u001B[0m             \u001B[0mpred_model\u001B[0m \u001B[0;34m=\u001B[0m \u001B[0mNeuralNetworkClass\u001B[0m\u001B[0;34m(\u001B[0m\u001B[0;34m)\u001B[0m\u001B[0;34m\u001B[0m\u001B[0;34m\u001B[0m\u001B[0m\n\u001B[1;32m     32\u001B[0m             \u001B[0mpred_model\u001B[0m\u001B[0;34m.\u001B[0m\u001B[0mlinear_relu_stack\u001B[0m\u001B[0;34m[\u001B[0m\u001B[0;36m4\u001B[0m\u001B[0;34m]\u001B[0m \u001B[0;34m=\u001B[0m \u001B[0mnn\u001B[0m\u001B[0;34m.\u001B[0m\u001B[0mLinear\u001B[0m\u001B[0;34m(\u001B[0m\u001B[0;36m512\u001B[0m\u001B[0;34m,\u001B[0m \u001B[0;36m2\u001B[0m\u001B[0;34m)\u001B[0m\u001B[0;34m\u001B[0m\u001B[0;34m\u001B[0m\u001B[0m\n",
      "\u001B[0;32m/var/folders/gg/pzwg2mx55xz88tn1x3z4qgdw0000gn/T/ipykernel_55136/3323249631.py\u001B[0m in \u001B[0;36madd_ax\u001B[0;34m(self, type, gen, val_array, acc_array)\u001B[0m\n\u001B[1;32m     20\u001B[0m         \u001B[0midx\u001B[0m \u001B[0;34m=\u001B[0m \u001B[0mtype\u001B[0m \u001B[0;34m*\u001B[0m \u001B[0mgen\u001B[0m \u001B[0;34m-\u001B[0m \u001B[0;36m1\u001B[0m\u001B[0;34m\u001B[0m\u001B[0;34m\u001B[0m\u001B[0m\n\u001B[1;32m     21\u001B[0m         \u001B[0mprint\u001B[0m\u001B[0;34m(\u001B[0m\u001B[0;34mf'The index is {idx}'\u001B[0m\u001B[0;34m)\u001B[0m\u001B[0;34m\u001B[0m\u001B[0;34m\u001B[0m\u001B[0m\n\u001B[0;32m---> 22\u001B[0;31m         \u001B[0mself\u001B[0m\u001B[0;34m.\u001B[0m\u001B[0maxs\u001B[0m\u001B[0;34m[\u001B[0m\u001B[0midx\u001B[0m\u001B[0;34m]\u001B[0m\u001B[0;34m.\u001B[0m\u001B[0mplot\u001B[0m\u001B[0;34m(\u001B[0m\u001B[0mself\u001B[0m\u001B[0;34m.\u001B[0m\u001B[0mx\u001B[0m\u001B[0;34m,\u001B[0m\u001B[0mval_array\u001B[0m\u001B[0;34m.\u001B[0m\u001B[0mtolist\u001B[0m\u001B[0;34m(\u001B[0m\u001B[0;34m)\u001B[0m\u001B[0;34m,\u001B[0m \u001B[0mself\u001B[0m\u001B[0;34m.\u001B[0m\u001B[0mx\u001B[0m\u001B[0;34m,\u001B[0m \u001B[0macc_array\u001B[0m\u001B[0;34m.\u001B[0m\u001B[0mtolist\u001B[0m\u001B[0;34m(\u001B[0m\u001B[0;34m)\u001B[0m\u001B[0;34m)\u001B[0m\u001B[0;34m\u001B[0m\u001B[0;34m\u001B[0m\u001B[0m\n\u001B[0m\u001B[1;32m     23\u001B[0m         \u001B[0mself\u001B[0m\u001B[0;34m.\u001B[0m\u001B[0maxs\u001B[0m\u001B[0;34m[\u001B[0m\u001B[0midx\u001B[0m\u001B[0;34m]\u001B[0m\u001B[0;34m.\u001B[0m\u001B[0mset_title\u001B[0m\u001B[0;34m(\u001B[0m\u001B[0;34mf'Type {type} of {gen}'\u001B[0m\u001B[0;34m)\u001B[0m\u001B[0;34m\u001B[0m\u001B[0;34m\u001B[0m\u001B[0m\n\u001B[1;32m     24\u001B[0m         \u001B[0mself\u001B[0m\u001B[0;34m.\u001B[0m\u001B[0maxs\u001B[0m\u001B[0;34m[\u001B[0m\u001B[0midx\u001B[0m\u001B[0;34m]\u001B[0m\u001B[0;34m.\u001B[0m\u001B[0mset_xlabel\u001B[0m\u001B[0;34m(\u001B[0m\u001B[0;34m'Epochs'\u001B[0m\u001B[0;34m)\u001B[0m\u001B[0;34m\u001B[0m\u001B[0;34m\u001B[0m\u001B[0m\n",
      "\u001B[0;31mAttributeError\u001B[0m: 'numpy.ndarray' object has no attribute 'plot'"
     ]
    },
    {
     "data": {
      "text/plain": "<Figure size 576x360 with 4 Axes>",
      "image/png": "[encoded data removed]"
     },
     "metadata": {
      "needs_background": "light"
     },
     "output_type": "display_data"
    }
   ],
   "source": [
    "%debug\n",
    "\n",
    "\n",
    "torch.save(class_model.state_dict(), f\"blankallclass_model.pth\")\n",
    "torch.save(pred_model.state_dict(), f\"blankpred_model.pth\")\n",
    "\n",
    "epochs = 5\n",
    "model_gens = 2\n",
    "graphs_now = AccValGraphs(model_types=2,model_gen=model_gens,epochs=epochs)\n",
    "\n",
    "for g in range(model_gens):\n",
    "    # Reset all the models\n",
    "    # Full 10 class\n",
    "    print(f\"New Gen Time \\n\")\n",
    "    class_loss = []\n",
    "    class_acc = []\n",
    "    class_model = NeuralNetworkClass()\n",
    "    class_model.load_state_dict(torch.load(\"blankallclass_model.pth\"))\n",
    "    class_model.apply(weight_init)\n",
    "    loss_fn_class = nn.CrossEntropyLoss()\n",
    "    optimizer_class = torch.optim.SGD(class_model.parameters(), lr=1e-3)\n",
    "    early_stopping = EarlyStopping(min_delta=0.001)\n",
    "    for t in range(epochs):\n",
    "        print(f\"Epoch {t+1} of gen {g+1}\\n-------------------------------\")\n",
    "        train(train_dataloader, class_model, loss_fn_class, optimizer_class)\n",
    "        loss_tmp, accu_tmp = test(test_dataloader, class_model, loss_fn_class)\n",
    "        class_loss.append(loss_tmp)\n",
    "        class_acc.append(accu_tmp)\n",
    "        early_stopping(loss_tmp)\n",
    "        if early_stopping.early_stop or t == epochs-1:\n",
    "            torch.save(class_model.state_dict(), f\"{g+1}_allclass_model.pth\")\n",
    "            print(f\"Saved PyTorch Model State to {g+1}_allclass_model.pth\")\n",
    "            graphs_now.add_ax(1,1,[1.5,1.4,1.3,1.2,1.1],[56,72,83,85,86])\n",
    "            pred_model = NeuralNetworkClass()\n",
    "            pred_model.linear_relu_stack[4] = nn.Linear(512, 2)\n",
    "            acc_loss = []\n",
    "            acc_acc = []\n",
    "            early_stopping = EarlyStopping(min_delta=0.001)\n",
    "            loss_fn_pred = nn.CrossEntropyLoss()\n",
    "            optimizer_pred = torch.optim.SGD(pred_model.parameters(), lr=1e-3)\n",
    "            print(f\"Predicting {g+1}\\n-------------------------------\")\n",
    "            pred_train_dataset = make_acc_dataset(class_model,training_data)\n",
    "            pred_test_dataset = make_acc_dataset(class_model,test_data)\n",
    "            pred_train_dataloader = DataLoader(pred_train_dataset, batch_size=batch_size)\n",
    "            pred_test_dataloader = DataLoader(pred_test_dataset, batch_size=batch_size)\n",
    "            for p in range(epochs):\n",
    "                print(f\"Epoch {p+1} of gen {g+1} pred class \\n-------------------------------\")\n",
    "                train(pred_train_dataloader, pred_model, loss_fn_pred, optimizer_pred)\n",
    "                loss_tmp, acc_tmp= test(pred_test_dataloader, pred_model, loss_fn_pred)\n",
    "                acc_loss.append(loss_tmp)\n",
    "                acc_acc.append(acc_tmp)\n",
    "                early_stopping(loss_tmp)\n",
    "                if early_stopping.early_stop or p == epochs:\n",
    "                    torch.save(pred_model.state_dict(), f\"{g+1}_pred_model.pth\")\n",
    "                    print(f\"Saved PyTorch Model State to {g+1}_pred_model.pth\")\n",
    "                    graphs_now.add_ax(2,1,[1.5,1.4,1.3,1.2,1.1],[56,72,83,85,86])\n",
    "                    break\n",
    "            break\n",
    "\n",
    "\n",
    "print(\"Done!\")\n",
    "\n"
   ],
   "metadata": {
    "collapsed": false,
    "pycharm": {
     "name": "#%%\n"
    }
   }
  },
  {
   "cell_type": "code",
   "execution_count": null,
   "metadata": {},
   "outputs": [],
   "source": []
  }
 ],
 "metadata": {
  "kernelspec": {
   "display_name": "Python 3 (ipykernel)",
   "language": "python",
   "name": "python3"
  },
  "language_info": {
   "codemirror_mode": {
    "name": "ipython",
    "version": 3
   },
   "file_extension": ".py",
   "mimetype": "text/x-python",
   "name": "python",
   "nbconvert_exporter": "python",
   "pygments_lexer": "ipython3",
   "version": "3.8.2"
  }
 },
 "nbformat": 4,
 "nbformat_minor": 1
}